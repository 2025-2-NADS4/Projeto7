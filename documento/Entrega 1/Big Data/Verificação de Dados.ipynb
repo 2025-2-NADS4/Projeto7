{
  "nbformat": 4,
  "nbformat_minor": 0,
  "metadata": {
    "colab": {
      "provenance": []
    },
    "kernelspec": {
      "name": "python3",
      "display_name": "Python 3"
    },
    "language_info": {
      "name": "python"
    }
  },
  "cells": [
    {
      "cell_type": "code",
      "execution_count": 1,
      "metadata": {
        "colab": {
          "base_uri": "https://localhost:8080/"
        },
        "id": "JFI7zJ1Qybmk",
        "outputId": "10271f4e-2bf6-4114-de08-1b75a01856b6"
      },
      "outputs": [
        {
          "output_type": "stream",
          "name": "stdout",
          "text": [
            "✅\n"
          ]
        }
      ],
      "source": [
        "# Verificação dos Dados\n",
        "\n",
        "import pandas as pd\n",
        "\n",
        "print(\"✅\")"
      ]
    },
    {
      "cell_type": "code",
      "source": [
        "# --- Recarregar dados ---\n",
        "df_order = pd.read_csv('/content/Order_semicolon.csv', sep=';')\n",
        "df_campaign_queue = pd.read_csv('/content/CampaignQueue_semicolon.csv', sep=';')\n",
        "df_campaign = pd.read_csv('/content/Campaign_semicolon.csv', sep=';')\n",
        "\n",
        "print(\"✅\")"
      ],
      "metadata": {
        "colab": {
          "base_uri": "https://localhost:8080/"
        },
        "id": "uBjboKpWyncV",
        "outputId": "23fc7152-89f0-4520-953c-5adf8c8a1979"
      },
      "execution_count": 4,
      "outputs": [
        {
          "output_type": "stream",
          "name": "stdout",
          "text": [
            "✅\n"
          ]
        }
      ]
    },
    {
      "cell_type": "code",
      "source": [
        "# --- Valores nulos ---\n",
        "print(\"\\n🔍 Valores nulos Orders:\")\n",
        "print(df_order.isnull().sum())\n"
      ],
      "metadata": {
        "colab": {
          "base_uri": "https://localhost:8080/"
        },
        "id": "vTpXS6dFyxoQ",
        "outputId": "e4b4cf18-dbff-4076-c10c-c7256a827523"
      },
      "execution_count": 8,
      "outputs": [
        {
          "output_type": "stream",
          "name": "stdout",
          "text": [
            "\n",
            "🔍 Valores nulos Orders:\n",
            "id                         0\n",
            "companyId                  0\n",
            "containerId                0\n",
            "createdAt                  0\n",
            "customer                   0\n",
            "displayId                  0\n",
            "engineId                   0\n",
            "engineName                 0\n",
            "engineType                 0\n",
            "extraInfo               1181\n",
            "integrated                 0\n",
            "integrationId              0\n",
            "isTest                     0\n",
            "orderTiming                0\n",
            "orderType                  0\n",
            "salesChannel               0\n",
            "scheduledAt              968\n",
            "status                     0\n",
            "preparationTime            0\n",
            "takeOutTimeInSeconds       0\n",
            "totalAmount                0\n",
            "updatedAt                  0\n",
            "version                    0\n",
            "dtype: int64\n"
          ]
        }
      ]
    },
    {
      "cell_type": "code",
      "source": [
        "print(\"\\n🔍 Valores nulos CampaignQueue:\")\n",
        "print(df_campaign_queue.isnull().sum())"
      ],
      "metadata": {
        "colab": {
          "base_uri": "https://localhost:8080/"
        },
        "id": "DyT28NAvy1b_",
        "outputId": "2eb03fa8-e34a-47d6-cb1d-32760a1a4ba4"
      },
      "execution_count": 6,
      "outputs": [
        {
          "output_type": "stream",
          "name": "stdout",
          "text": [
            "\n",
            "🔍 Valores nulos CampaignQueue:\n",
            "id                    0\n",
            "jobId                 0\n",
            "campaignId            0\n",
            "storeId               0\n",
            "storeInstanceId       0\n",
            "customerId            0\n",
            " phoneNumber          0\n",
            "scheduledAt           0\n",
            "sendAt             1712\n",
            "status                0\n",
            "message               0\n",
            "response           3412\n",
            "createdAt             0\n",
            "createdBy             0\n",
            "updatedAt             0\n",
            "updatedBy             0\n",
            "dtype: int64\n"
          ]
        }
      ]
    },
    {
      "cell_type": "code",
      "source": [
        "print(\"\\n🔍 Valores nulos Campaign:\")\n",
        "print(df_campaign.isnull().sum())"
      ],
      "metadata": {
        "colab": {
          "base_uri": "https://localhost:8080/"
        },
        "id": "t2aPXKdiy80Z",
        "outputId": "9258d8a6-a945-4a1b-d5da-260e72fa067f"
      },
      "execution_count": 9,
      "outputs": [
        {
          "output_type": "stream",
          "name": "stdout",
          "text": [
            "\n",
            "🔍 Valores nulos Campaign:\n",
            "id               0\n",
            "segmentId        0\n",
            "templateId       0\n",
            "storeId          0\n",
            "name             0\n",
            "description    405\n",
            "badge          319\n",
            "type             0\n",
            "status           0\n",
            "isDefault        0\n",
            "createdAt        0\n",
            "createdBy        0\n",
            "updatedAt        0\n",
            "updatedBy        0\n",
            "dtype: int64\n"
          ]
        }
      ]
    },
    {
      "cell_type": "code",
      "source": [
        "# --- Duplicados ---\n",
        "print(\"\\n📌 Duplicados Orders:\", df_order.duplicated().sum())\n",
        "print(\"📌 Duplicados CampaignQueue:\", df_campaign_queue.duplicated().sum())\n",
        "print(\"📌 Duplicados Campaign:\", df_campaign.duplicated().sum())"
      ],
      "metadata": {
        "colab": {
          "base_uri": "https://localhost:8080/"
        },
        "id": "3AYkeog9y-2w",
        "outputId": "f2ca412f-3876-4728-d659-0a98c24f5e24"
      },
      "execution_count": 10,
      "outputs": [
        {
          "output_type": "stream",
          "name": "stdout",
          "text": [
            "\n",
            "📌 Duplicados Orders: 0\n",
            "📌 Duplicados CampaignQueue: 0\n",
            "📌 Duplicados Campaign: 0\n"
          ]
        }
      ]
    },
    {
      "cell_type": "code",
      "source": [
        "# --- Consistência de valores (exemplo em Orders) ---\n",
        "print(\"\\n📌 Status únicos Orders:\", df_order[\"status\"].unique())\n",
        "print(\"📌 Tipos de orderType:\", df_order[\"orderType\"].unique())\n",
        "print(\"📌 Canais de venda:\", df_order[\"salesChannel\"].unique())"
      ],
      "metadata": {
        "colab": {
          "base_uri": "https://localhost:8080/"
        },
        "id": "7AR5f_W6zAjP",
        "outputId": "a10b2923-5214-4707-c7f7-c057ea59056a"
      },
      "execution_count": 11,
      "outputs": [
        {
          "output_type": "stream",
          "name": "stdout",
          "text": [
            "\n",
            "📌 Status únicos Orders: ['DISPATCHED' 'CONCLUDED' 'CANCELED' 'CONFIRMED' 'PENDING' 'PLACED']\n",
            "📌 Tipos de orderType: ['DELIVERY' 'INDOOR' 'TAKEOUT']\n",
            "📌 Canais de venda: ['ANOTAAI' 'WHATSAPP' 'EPADOCA' '99FOOD' 'SITE' 'IFOOD' 'DELIVERYVIP']\n"
          ]
        }
      ]
    },
    {
      "cell_type": "code",
      "source": [
        "#Análise Engajamento das Campanhas de Marketing\n",
        "\n",
        "print(\"--- Análise de Engajamento das Campanhas ---\")\n",
        "\n",
        "df_merged = pd.merge(df_campaign_queue, df_campaign, left_on='campaignId', right_on='id', how='left')\n",
        "\n",
        "status_map = {\n",
        "    1: 'Agendado',\n",
        "    2: 'Enviado',\n",
        "    3: 'Recebido',\n",
        "    4: 'Lido',\n",
        "    5: 'Deletado',\n",
        "    6: 'Pendente'\n",
        "}\n",
        "df_merged['status_legivel'] = df_merged['status_x'].map(status_map)\n",
        "\n",
        "funil_geral = df_merged['status_legivel'].value_counts()\n",
        "\n",
        "print(\"\\n### Contagem de Mensagens em Cada Status:\")\n",
        "display(funil_geral)\n",
        "\n",
        "if 'Enviado' in funil_geral.index and 'Lido' in funil_geral.index:\n",
        "    taxa_leitura = (funil_geral['Lido'] / funil_geral['Enviado']) * 100\n",
        "    print(f\"\\nTaxa de Leitura Geral (dos enviados): {taxa_leitura:.2f}%\")\n",
        "else:\n",
        "    print(\"\\nNão foi possível calcular a taxa de leitura (dados de 'Enviado' ou 'Lido' não encontrados).\")"
      ],
      "metadata": {
        "colab": {
          "base_uri": "https://localhost:8080/",
          "height": 395
        },
        "id": "UbgzCHT0zHiQ",
        "outputId": "ae06a547-ab29-4887-9d46-7acf908f3f87"
      },
      "execution_count": 13,
      "outputs": [
        {
          "output_type": "stream",
          "name": "stdout",
          "text": [
            "--- Análise de Engajamento das Campanhas ---\n",
            "\n",
            "### Contagem de Mensagens em Cada Status:\n"
          ]
        },
        {
          "output_type": "display_data",
          "data": {
            "text/plain": [
              "status_legivel\n",
              "Agendado    871\n",
              "Pendente    841\n",
              "Recebido    837\n",
              "Lido        824\n",
              "Enviado     823\n",
              "Deletado    804\n",
              "Name: count, dtype: int64"
            ],
            "text/html": [
              "<div>\n",
              "<style scoped>\n",
              "    .dataframe tbody tr th:only-of-type {\n",
              "        vertical-align: middle;\n",
              "    }\n",
              "\n",
              "    .dataframe tbody tr th {\n",
              "        vertical-align: top;\n",
              "    }\n",
              "\n",
              "    .dataframe thead th {\n",
              "        text-align: right;\n",
              "    }\n",
              "</style>\n",
              "<table border=\"1\" class=\"dataframe\">\n",
              "  <thead>\n",
              "    <tr style=\"text-align: right;\">\n",
              "      <th></th>\n",
              "      <th>count</th>\n",
              "    </tr>\n",
              "    <tr>\n",
              "      <th>status_legivel</th>\n",
              "      <th></th>\n",
              "    </tr>\n",
              "  </thead>\n",
              "  <tbody>\n",
              "    <tr>\n",
              "      <th>Agendado</th>\n",
              "      <td>871</td>\n",
              "    </tr>\n",
              "    <tr>\n",
              "      <th>Pendente</th>\n",
              "      <td>841</td>\n",
              "    </tr>\n",
              "    <tr>\n",
              "      <th>Recebido</th>\n",
              "      <td>837</td>\n",
              "    </tr>\n",
              "    <tr>\n",
              "      <th>Lido</th>\n",
              "      <td>824</td>\n",
              "    </tr>\n",
              "    <tr>\n",
              "      <th>Enviado</th>\n",
              "      <td>823</td>\n",
              "    </tr>\n",
              "    <tr>\n",
              "      <th>Deletado</th>\n",
              "      <td>804</td>\n",
              "    </tr>\n",
              "  </tbody>\n",
              "</table>\n",
              "</div><br><label><b>dtype:</b> int64</label>"
            ]
          },
          "metadata": {}
        },
        {
          "output_type": "stream",
          "name": "stdout",
          "text": [
            "\n",
            "Taxa de Leitura Geral (dos enviados): 100.12%\n"
          ]
        }
      ]
    }
  ]
}